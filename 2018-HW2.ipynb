{
 "cells": [
  {
   "cell_type": "markdown",
   "metadata": {},
   "source": [
    "# Introduction to Data Science - Homework 2\n",
    "*COMP 5360 / MATH 4100, University of Utah, http://datasciencecourse.net/*\n",
    "\n",
    "Due: Friday, January 26, 11:59pm.\n",
    "\n",
    "This homework is designed to reinforce the skills we covered in weeks 1 and 2: working with loops, conditions, functions, and the built-in Python data structures. We'll also calcluate descriptive statistics, and sample from a distribution. Make sure to go through the lectures again in case you have any troubles.\n",
    "\n",
    "In this homework we'll do calculations that are also available in NumPy. For Parts 1 and 2, however, **we want you to implement the solutions using standard python functionality and the math library, and then check your results using NumPy**. See the the [NumPy library](http://docs.scipy.org/doc/numpy-1.11.0/reference/routines.statistics.html) documentation, and include the checks as a separate code cell. \n",
    "\n",
    "\n",
    "**For Part 3, you should use the SciPy libary, specifically [SciPy Stats](https://docs.scipy.org/doc/scipy/reference/stats.html).** "
   ]
  },
  {
   "cell_type": "markdown",
   "metadata": {},
   "source": [
    "## Your Data\n",
    "Fill out the following information: \n",
    "\n",
    "*First Name:*  Aniket \n",
    "*Last Name:*   Patil\n",
    "*E-mail:*   aniket.patil@utah.edu\n",
    "*UID:*  u1144414\n"
   ]
  },
  {
   "cell_type": "markdown",
   "metadata": {},
   "source": [
    "## Part 1: Vector data"
   ]
  },
  {
   "cell_type": "markdown",
   "metadata": {},
   "source": [
    "We first will work with a vector of yearly average temperatures from New Haven published [here](https://vincentarelbundock.github.io/Rdatasets/datasets.html). The data is included in this repository in the file `nhtmep.csv`.\n",
    "\n",
    "The data is stored in the CSV format, which is a simple textfile with 'Comma Seperated Values'.\n",
    "To load the data to into a (nested) python array, we use the [csv](https://docs.python.org/3/library/csv.html) library. The following code reads the file and stores it in a vector:"
   ]
  },
  {
   "cell_type": "code",
   "execution_count": 6,
   "metadata": {},
   "outputs": [
    {
     "name": "stdout",
     "output_type": "stream",
     "text": [
      "[49.9, 52.3, 49.4, 51.1, 49.4, 47.9, 49.8, 50.9, 49.3, 51.9, 50.8, 49.6, 49.3, 50.6, 48.4, 50.7, 50.9, 50.6, 51.5, 52.8, 51.8, 51.1, 49.8, 50.2, 50.4, 51.6, 51.8, 50.9, 48.8, 51.7, 51.0, 50.6, 51.7, 51.5, 52.1, 51.3, 51.0, 54.0, 51.4, 52.7, 53.1, 54.6, 52.0, 52.0, 50.9, 52.6, 50.2, 52.6, 51.6, 51.9, 50.5, 50.9, 51.7, 51.4, 51.7, 50.8, 51.9, 51.8, 51.9, 53.0]\n"
     ]
    }
   ],
   "source": [
    "# import the csv library\n",
    "import csv\n",
    "# import the math library we'll use later\n",
    "import math\n",
    "# import the numpy library\n",
    "import numpy as np\n",
    "\n",
    "# initialize the array\n",
    "temperature_vector = []\n",
    "\n",
    "# open the file and append the values of the last column to the array\n",
    "with open('nhtemp.csv') as csvfile:\n",
    "    filereader = csv.reader(csvfile, delimiter=',', quotechar='|')\n",
    "    # remove the first item as it is the title.\n",
    "    next(filereader)\n",
    "    for row in filereader:\n",
    "        # here we append to the array and also cast from string to float\n",
    "        temperature_vector.append(float(row[2]))\n",
    "        \n",
    "# print the vector to see if it worked\n",
    "print (temperature_vector)"
   ]
  },
  {
   "cell_type": "markdown",
   "metadata": {},
   "source": [
    "We'll use the `temperature_vector` to calculate a couple of standard statistical measures next."
   ]
  },
  {
   "cell_type": "markdown",
   "metadata": {},
   "source": [
    "### Task 1.1: Calculate the Mean of a Vector\n",
    "\n",
    "Write a function that calculates and returns the [arithmetic mean](https://en.wikipedia.org/wiki/Arithmetic_mean) of a vector that you pass into it. \n",
    "\n",
    "Pass the temperature vector into this function and print the result. Provide a written interpretation of your results (e.g., \"The mean temperature for New Haven for the years 1912 to 1971 is XXX degrees Fahrenheit.\")"
   ]
  },
  {
   "cell_type": "markdown",
   "metadata": {
    "collapsed": true
   },
   "source": [
    "## your code goes here\n",
    "def mean_list(temperature_vector):\n",
    "    sum=0\n",
    "    for i in range(len(temperature_vector)):\n",
    "        sum+=temperature_vector[i]\n",
    "        \n",
    "    return sum/(i+1)\n",
    "mean_list(temperature_vector)       "
   ]
  },
  {
   "cell_type": "code",
   "execution_count": 16,
   "metadata": {},
   "outputs": [
    {
     "name": "stdout",
     "output_type": "stream",
     "text": [
      "The mean temprature for New Haven for the yeat 1912to 1971 is 51.16 degrees Fahrenhrit.\n"
     ]
    }
   ],
   "source": [
    "# Check our results using NumPy\n",
    "import numpy as np\n",
    "print(\"The mean temprature for New Haven for the yeat 1912to 1971 is\",np.mean([49.9, 52.3, 49.4, 51.1, 49.4, 47.9, 49.8, 50.9, 49.3, 51.9, 50.8, 49.6, 49.3, 50.6, 48.4, 50.7, 50.9, 50.6, 51.5, 52.8, 51.8, 51.1, 49.8, 50.2, 50.4, 51.6, 51.8, 50.9, 48.8, 51.7, 51.0, 50.6, 51.7, 51.5, 52.1, 51.3, 51.0, 54.0, 51.4, 52.7, 53.1, 54.6, 52.0, 52.0, 50.9, 52.6, 50.2, 52.6, 51.6, 51.9, 50.5, 50.9, 51.7, 51.4, 51.7, 50.8, 51.9, 51.8, 51.9, 53.0]),\"degrees Fahrenhrit.\")"
   ]
  },
  {
   "cell_type": "markdown",
   "metadata": {},
   "source": [
    "**Your Interpretation:** TODO"
   ]
  },
  {
   "cell_type": "markdown",
   "metadata": {},
   "source": [
    "### Task 1.2: Calculate the Median of a Vector\n",
    "Write a function that calculates and returns the [median](https://en.wikipedia.org/wiki/Median) of a vector. Pass the temperature vector into this function and print the result. Make sure that your function works for both, functions with an even and with an odd number of elements. In case of an even number of elements, use the mean of the two middle values. Provide a written interpretation of your results.\n",
    "\n",
    "Hint: the [`sorted()`](https://docs.python.org/3/library/functions.html#sorted) function might be helpful for this."
   ]
  },
  {
   "cell_type": "code",
   "execution_count": 169,
   "metadata": {},
   "outputs": [
    {
     "data": {
      "text/plain": [
       "36"
      ]
     },
     "execution_count": 169,
     "metadata": {},
     "output_type": "execute_result"
    }
   ],
   "source": [
    "## your code goes here\n",
    "def median_list(temprature_vector):\n",
    "    temprature_vector.sort()\n",
    "    if len(temprature_vector)%2==0:\n",
    "        i=len(temprature_vector)//2\n",
    "        return (temprature_vector[i]+temprature_vector[i-1])/2\n",
    "    else:\n",
    "        return temprature_vector[len(temprature_vector)//2]\n",
    "median_list(temperature_vector)"
   ]
  },
  {
   "cell_type": "code",
   "execution_count": 26,
   "metadata": {},
   "outputs": [
    {
     "name": "stdout",
     "output_type": "stream",
     "text": [
      "The mean temprature for New Haven for the yeat 1912to 1971 is 51.2 degrees Fahrenhrit.\n"
     ]
    }
   ],
   "source": [
    "# Check with numpy here\n",
    "import numpy as np\n",
    "print(\"The mean temprature for New Haven for the yeat 1912to 1971 is\",np.median([49.9, 52.3, 49.4, 51.1, 49.4, 47.9, 49.8, 50.9, 49.3, 51.9, 50.8, 49.6, 49.3, 50.6, 48.4, 50.7, 50.9, 50.6, 51.5, 52.8, 51.8, 51.1, 49.8, 50.2, 50.4, 51.6, 51.8, 50.9, 48.8, 51.7, 51.0, 50.6, 51.7, 51.5, 52.1, 51.3, 51.0, 54.0, 51.4, 52.7, 53.1, 54.6, 52.0, 52.0, 50.9, 52.6, 50.2, 52.6, 51.6, 51.9, 50.5, 50.9, 51.7, 51.4, 51.7, 50.8, 51.9, 51.8, 51.9, 53.0]),\"degrees Fahrenhrit.\")"
   ]
  },
  {
   "cell_type": "markdown",
   "metadata": {},
   "source": [
    "**Your Interpretation:** TODO"
   ]
  },
  {
   "cell_type": "markdown",
   "metadata": {},
   "source": [
    "### Task 1.3: Calculate the Standard Deviation of a Vector\n",
    "\n",
    "Write a function that calculates and returns the [standard deviation](https://en.wikipedia.org/wiki/Standard_deviation) of a vector. Pass the temperature vector into this function and print the result. Provide a written interpretation of your results.\n",
    "\n",
    "The standard deviation is the square root of the average of the squared deviations from the mean, i.e.,\n",
    "\n",
    "$$\\sigma = \\sqrt{\\frac{1}{N} \\sum_{i=1}^{N} {{(x_i - \\mu)}^2} }$$\n",
    "\n",
    "where $\\mu$ is the mean of the vector. Hint: use your mean function to calculate it."
   ]
  },
  {
   "cell_type": "markdown",
   "metadata": {},
   "source": [
    "Hint: the `sqrt()` function from the [`math library`](https://docs.python.org/3/library/math.html) might be helpful for this. If you use a seperate file you need to load the library as we did in Part 1 to read in the data. The import looks like this:"
   ]
  },
  {
   "cell_type": "code",
   "execution_count": 186,
   "metadata": {},
   "outputs": [
    {
     "data": {
      "text/plain": [
       "1.2550166001558178"
      ]
     },
     "execution_count": 186,
     "metadata": {},
     "output_type": "execute_result"
    }
   ],
   "source": [
    "## your code goes here\n",
    "def std_dev(temperature_vector):\n",
    "    mean=mean_list(temperature_vector)\n",
    "    sq_sum=0\n",
    "    for i in temperature_vector:\n",
    "        sq_sum+=(i-mean)**2\n",
    "    return ((float(sq_sum)/len(temperature_vector)))**0.5\n",
    "std_dev(temperature_vector)\n"
   ]
  },
  {
   "cell_type": "code",
   "execution_count": 187,
   "metadata": {},
   "outputs": [
    {
     "name": "stdout",
     "output_type": "stream",
     "text": [
      "The mean temprature for New Haven for the yeat 1912 to 1971 is 1.25501660016 degrees Fahrenhrit.\n"
     ]
    }
   ],
   "source": [
    "# Check with numpy here\n",
    "import numpy as np\n",
    "print(\"The mean temprature for New Haven for the yeat 1912 to 1971 is\",np.std([49.9, 52.3, 49.4, 51.1, 49.4, 47.9, 49.8, 50.9, 49.3, 51.9, 50.8, 49.6, 49.3, 50.6, 48.4, 50.7, 50.9, 50.6, 51.5, 52.8, 51.8, 51.1, 49.8, 50.2, 50.4, 51.6, 51.8, 50.9, 48.8, 51.7, 51.0, 50.6, 51.7, 51.5, 52.1, 51.3, 51.0, 54.0, 51.4, 52.7, 53.1, 54.6, 52.0, 52.0, 50.9, 52.6, 50.2, 52.6, 51.6, 51.9, 50.5, 50.9, 51.7, 51.4, 51.7, 50.8, 51.9, 51.8, 51.9, 53.0]),\"degrees Fahrenhrit.\")"
   ]
  },
  {
   "cell_type": "markdown",
   "metadata": {},
   "source": [
    "**Your Interpretation:** TODO"
   ]
  },
  {
   "cell_type": "markdown",
   "metadata": {},
   "source": [
    "### Task 1.4: Histogram\n",
    "\n",
    "Write a function that takes a vector and an integer `b` and calculates a [histogram](https://en.wikipedia.org/wiki/Histogram) with `b` bins. The function should return an array containing two arrays. The first should be the counts for each bin, the second should contain the borders of the bins.\n",
    "\n",
    "For `b=5` your output should look like this: \n",
    "\n",
    "`[[3, 12, 33, 10, 2], [47.9, 49.24, 50.58, 51.92, 53.26, 54.6]]`\n",
    "\n",
    "Here, the first array gives the size of these bins, the second defines the bands. I.e., the first band from 47.9-49.24 has 3 entries, the second, from 49.24-50.58 has 12 entries, etc. \n",
    "\n",
    "Provide a written interpretation of your results. Comment on whether the histogram is skewed, and if so, in which direction."
   ]
  },
  {
   "cell_type": "code",
   "execution_count": 10,
   "metadata": {},
   "outputs": [
    {
     "data": {
      "text/plain": [
       "[[3, 12, 33, 10, 2], [47.9, 49.24, 50.58, 51.92, 53.26, 54.6]]"
      ]
     },
     "execution_count": 10,
     "metadata": {},
     "output_type": "execute_result"
    }
   ],
   "source": [
    "## your code goes here\n",
    "def hist(temperature_vector,b):\n",
    "    max_list=max(temperature_vector)\n",
    "    min_list=min(temperature_vector)\n",
    "    interval=(float(max_list-min_list))/b\n",
    "    temperature_vector.sort()\n",
    "    band_list=[]\n",
    "    band=[]\n",
    "    list_no=min_list\n",
    "    hist_list=[]\n",
    "    for i in range (b+1) :\n",
    "        band_list.append(round(list_no,2))\n",
    "        list_no+=interval\n",
    "    for y in range(len(band_list)-1):\n",
    "        a=sum((j>=band_list[y] and j<=band_list[y+1]) for j in temperature_vector)\n",
    "        band.append(a)\n",
    "    hist_list.append(band)\n",
    "    hist_list.append(band_list)\n",
    "        \n",
    "    return hist_list\n",
    "hist(temperature_vector,5)"
   ]
  },
  {
   "cell_type": "code",
   "execution_count": 9,
   "metadata": {
    "collapsed": true
   },
   "outputs": [],
   "source": [
    "# Check with numpy here"
   ]
  },
  {
   "cell_type": "markdown",
   "metadata": {},
   "source": [
    "**Your interpretation:** TODO"
   ]
  },
  {
   "cell_type": "markdown",
   "metadata": {},
   "source": [
    "## Part 2: Working with Matrices"
   ]
  },
  {
   "cell_type": "markdown",
   "metadata": {},
   "source": [
    "For the second part of the homework, we are going to work with matrices. The [dataset we will use](https://www.wunderground.com/history/airport/KSLC/2015/1/1/CustomHistory.html?dayend=31&monthend=12&yearend=2015&req_city=&req_state=&req_statename=&reqdb.zip=&reqdb.magic=&reqdb.wmo=) contains different properties of the weather in Salt Lake City for 2015 (temperature, humidity, sea level, ...). It is stored in the file [`SLC_2015.csv`](SLC_2015.csv) in this repository."
   ]
  },
  {
   "cell_type": "markdown",
   "metadata": {},
   "source": [
    "We first read the data from the file and store it in a nested python array (`weather_matrix`). A nested python array is an array, where each element is an array itself. Here is a simple example: "
   ]
  },
  {
   "cell_type": "code",
   "execution_count": 10,
   "metadata": {},
   "outputs": [
    {
     "data": {
      "text/plain": [
       "[[1, 2, 3], ['a', 'b', 'c']]"
      ]
     },
     "execution_count": 10,
     "metadata": {},
     "output_type": "execute_result"
    }
   ],
   "source": [
    "arr1 = [1,2,3]\n",
    "arr2 = ['a', 'b', 'c']\n",
    "\n",
    "nestedArr = [arr1, arr2]\n",
    "nestedArr"
   ]
  },
  {
   "cell_type": "markdown",
   "metadata": {},
   "source": [
    "We provide you with the import code, which will write the data into the nested list `temperature_matrix`. The list contains one list for each month, which, in turn, contain the mean temparature of every day of that month. "
   ]
  },
  {
   "cell_type": "code",
   "execution_count": 145,
   "metadata": {},
   "outputs": [
    {
     "name": "stdout",
     "output_type": "stream",
     "text": [
      "[[15, 19, 26, 28, 37, 38, 38, 36, 35, 31, 39, 36, 35, 30, 31, 31, 37, 44, 40, 35, 31, 31, 31, 33, 42, 41, 44, 42, 36, 40, 39], [39, 49, 50, 50, 53, 57, 60, 53, 55, 45, 43, 47, 46, 48, 43, 40, 38, 44, 47, 44, 39, 33, 31, 35, 44, 35, 37, 36], [40, 37, 34, 33, 39, 43, 45, 45, 46, 50, 54, 50, 51, 56, 62, 63, 61, 53, 47, 53, 57, 54, 52, 47, 42, 48, 56, 62, 53, 57, 63], [46, 44, 44, 54, 60, 50, 52, 46, 49, 53, 58, 50, 57, 56, 33, 44, 50, 54, 56, 56, 60, 61, 61, 59, 51, 46, 50, 57, 65, 63], [63, 71, 68, 67, 62, 59, 58, 57, 49, 53, 59, 68, 65, 65, 53, 48, 56, 58, 55, 59, 58, 58, 55, 57, 62, 59, 61, 61, 64, 71, 76], [80, 68, 69, 68, 69, 70, 66, 73, 77, 78, 72, 74, 75, 76, 81, 77, 78, 83, 83, 78, 81, 78, 78, 83, 82, 84, 87, 88, 91, 89], [87, 87, 87, 89, 79, 79, 76, 75, 73, 72, 77, 79, 81, 77, 80, 80, 79, 74, 74, 73, 76, 77, 75, 78, 78, 84, 77, 66, 70, 76, 79], [80, 79, 69, 76, 82, 74, 76, 69, 72, 79, 83, 81, 83, 88, 83, 79, 77, 72, 74, 76, 81, 74, 76, 84, 85, 78, 77, 80, 85, 82, 75], [82, 83, 82, 80, 75, 60, 65, 66, 71, 73, 74, 76, 76, 74, 65, 57, 59, 56, 60, 65, 69, 71, 73, 72, 77, 79, 79, 74, 73, 77], [78, 64, 61, 62, 64, 65, 62, 65, 64, 69, 70, 64, 65, 67, 66, 66, 69, 66, 62, 56, 57, 55, 54, 57, 58, 58, 51, 49, 50, 45, 57], [61, 61, 53, 41, 39, 40, 40, 44, 51, 36, 40, 42, 41, 43, 48, 39, 32, 41, 42, 39, 34, 34, 35, 40, 45, 32, 28, 25, 25, 28], [29, 29, 32, 35, 36, 38, 37, 45, 51, 47, 37, 35, 36, 31, 26, 30, 23, 35, 41, 36, 38, 38, 31, 30, 23, 19, 17, 19, 21, 21, 12]]\n",
      "Mean temp on August 23: 76\n"
     ]
    }
   ],
   "source": [
    "# initialize the 12 arrays for the months\n",
    "temperature_matrix = [[] for i in range(12)]\n",
    "\n",
    "# open the file and append the values of the last column to the array\n",
    "with open('SLC_2015.csv') as csvfile:\n",
    "    filereader = csv.reader(csvfile, delimiter=',', quotechar='|')\n",
    "    # get rid of the header\n",
    "    next(filereader)\n",
    "    for row in filereader:\n",
    "        month = int(row[0].split('/')[0])\n",
    "        mean_temp = int(row[2])\n",
    "        temperature_matrix[month-1].append(mean_temp)\n",
    "\n",
    "print(temperature_matrix)\n",
    "\n",
    "# the mean tempertarure on August 23. Note the index offset:\n",
    "print(\"Mean temp on August 23: \" + str(temperature_matrix[7][22]))"
   ]
  },
  {
   "cell_type": "markdown",
   "metadata": {},
   "source": [
    "We will now use the nested array `temperature_matrix` to compute the same metrics as in Part 1.\n",
    "\n",
    "**Note:** Since the lists in the matrix are of varying lengths (28 to 31 days) many of the standard NumPy functions won't work."
   ]
  },
  {
   "cell_type": "markdown",
   "metadata": {},
   "source": [
    "### Task 2.1: Calculates the mean of a whole matrix\n",
    "\n",
    "Write a function that calculates the mean of a matrix. For this version calculate the mean over all elements in the matrix as if it was one large vector. \n",
    "Pass in the matrix with the weather data and return the result. Provide a written interpretation of your results.\n",
    "Can you use your function from Part 1 and get a valid result?"
   ]
  },
  {
   "cell_type": "code",
   "execution_count": 151,
   "metadata": {},
   "outputs": [
    {
     "data": {
      "text/plain": [
       "56.70716205837174"
      ]
     },
     "execution_count": 151,
     "metadata": {},
     "output_type": "execute_result"
    }
   ],
   "source": [
    "## your code goes here\n",
    "def mean_mat(temprature_matrix):\n",
    "    mat1=[]\n",
    "    for i in temprature_matrix:\n",
    "        list_mean=mean_list(i)\n",
    "        mat1.append(list_mean)\n",
    "\n",
    "    mat_mean=mean_list(mat1)\n",
    "    return mat_mean\n",
    "mean_mat(temperature_matrix)"
   ]
  },
  {
   "cell_type": "code",
   "execution_count": 13,
   "metadata": {
    "collapsed": true
   },
   "outputs": [],
   "source": [
    "# here we create a flat version of the matrix that works well for np checks\n",
    "flat_data = [i for x in temperature_matrix for i in x]\n",
    "# check your data with nupy here"
   ]
  },
  {
   "cell_type": "markdown",
   "metadata": {},
   "source": [
    "**Your Interpretation:** TODO"
   ]
  },
  {
   "cell_type": "markdown",
   "metadata": {},
   "source": [
    "### Task 2.2:  Calculate the mean of each vector of a matrix\n",
    "\n",
    "Write a function that calculates the mean temperature of each month and returns an array with the means for each column. Provide a written interpretation of your results. Can you use the function you implemented in Part 1 here efficiently? If so, use it."
   ]
  },
  {
   "cell_type": "code",
   "execution_count": 157,
   "metadata": {},
   "outputs": [
    {
     "data": {
      "text/plain": [
       "[34.55,\n",
       " 44.32,\n",
       " 50.1,\n",
       " 52.83,\n",
       " 60.48,\n",
       " 77.87,\n",
       " 77.87,\n",
       " 78.35,\n",
       " 71.43,\n",
       " 61.16,\n",
       " 39.97,\n",
       " 31.55]"
      ]
     },
     "execution_count": 157,
     "metadata": {},
     "output_type": "execute_result"
    }
   ],
   "source": [
    "## your code goes here\n",
    "def mean_matcol(temperature_matrix):\n",
    "    matcol=[]\n",
    "    for i in temperature_matrix:\n",
    "        list_mean=mean_list(i)\n",
    "        matcol.append(round(list_mean,2))\n",
    "    return matcol\n",
    "mean_matcol(temperature_matrix)"
   ]
  },
  {
   "cell_type": "markdown",
   "metadata": {},
   "source": [
    "**Your Interpretation:** TODO"
   ]
  },
  {
   "cell_type": "markdown",
   "metadata": {},
   "source": [
    "### Task 2.3:  Calculate the median of a whole matrix\n",
    "\n",
    "Write a function that calculates and returns the median of a matrix over all values (independent from which row they are coming) and returns it. Provide a written interpretation of your results. Can you use your function from Part 1 and get a valid result?"
   ]
  },
  {
   "cell_type": "code",
   "execution_count": 197,
   "metadata": {},
   "outputs": [
    {
     "data": {
      "text/plain": [
       "57"
      ]
     },
     "execution_count": 197,
     "metadata": {},
     "output_type": "execute_result"
    }
   ],
   "source": [
    "## your code goes here\n",
    "def median_mat(temperature_matrix):\n",
    "    flat_data = [i for x in temperature_matrix for i in x]\n",
    "    return median_list(flat_data)\n",
    "median_mat(temperature_matrix)"
   ]
  },
  {
   "cell_type": "code",
   "execution_count": 199,
   "metadata": {},
   "outputs": [
    {
     "data": {
      "text/plain": [
       "57.0"
      ]
     },
     "execution_count": 199,
     "metadata": {},
     "output_type": "execute_result"
    }
   ],
   "source": [
    "## check with numpy here\n",
    "def numpy_median(temperature_matrix):\n",
    "    flat_data = [i for x in temperature_matrix for i in x]\n",
    "    return np.median(flat_data)    \n",
    "   \n",
    "numpy_median(temperature_matrix)"
   ]
  },
  {
   "cell_type": "markdown",
   "metadata": {},
   "source": [
    "**Your Interpretation:** TODO"
   ]
  },
  {
   "cell_type": "markdown",
   "metadata": {},
   "source": [
    "### Task 2.4: Calculate the median of each vector of a matrix\n",
    "\n",
    "Write a function that calculates the median of each sub array (i.e. each column in the csv file) in the matrix and returns an array of medians (one entry for column in the csv file). To do so, use the function you implemented in Part 1. Provide a written interpretation of your results. "
   ]
  },
  {
   "cell_type": "code",
   "execution_count": 179,
   "metadata": {},
   "outputs": [
    {
     "data": {
      "text/plain": [
       "[36, 44.0, 51, 53.5, 59, 78.0, 77, 79, 73.0, 62, 40.0, 32]"
      ]
     },
     "execution_count": 179,
     "metadata": {},
     "output_type": "execute_result"
    }
   ],
   "source": [
    "## your code goes here\n",
    "def median_matcol(temperature_matrix):\n",
    "    matcl=[]\n",
    "    for i in temperature_matrix:\n",
    "        list_median=median_list(i)\n",
    "        matcl.append(list_median)\n",
    "    return matcl\n",
    "median_matcol(temperature_matrix)"
   ]
  },
  {
   "cell_type": "markdown",
   "metadata": {},
   "source": [
    "**Your Interpretation:** TODO"
   ]
  },
  {
   "cell_type": "markdown",
   "metadata": {},
   "source": [
    "### Task 2.5: Calculate the standard deviation of a whole matrix\n",
    "\n",
    "Write a function that calculates the standard deviation of a matrix over all values in the matrix (ignoring from which column they were coming) and returns it. Can you use your function from Part 1 and get a valid result? Provide a written interpretation of your results. "
   ]
  },
  {
   "cell_type": "code",
   "execution_count": 200,
   "metadata": {},
   "outputs": [
    {
     "data": {
      "text/plain": [
       "17.90899410370995"
      ]
     },
     "execution_count": 200,
     "metadata": {},
     "output_type": "execute_result"
    }
   ],
   "source": [
    "## your code goes here\n",
    "def mat_std_dev(temperature_matrix):\n",
    "    flat_data = [i for x in temperature_matrix for i in x]\n",
    "    return std_dev(flat_data)\n",
    "mat_std_dev(temperature_matrix)"
   ]
  },
  {
   "cell_type": "code",
   "execution_count": 201,
   "metadata": {},
   "outputs": [
    {
     "data": {
      "text/plain": [
       "17.908994103709958"
      ]
     },
     "execution_count": 201,
     "metadata": {},
     "output_type": "execute_result"
    }
   ],
   "source": [
    "# Check with numpy here\n",
    "def numpy_std(temperature_matrix):\n",
    "    flat_data = [i for x in temperature_matrix for i in x]\n",
    "    return np.std(flat_data)\n",
    "numpy_std(temperature_matrix)"
   ]
  },
  {
   "cell_type": "markdown",
   "metadata": {},
   "source": [
    "**Your Interpretation:** TODO"
   ]
  },
  {
   "cell_type": "markdown",
   "metadata": {},
   "source": [
    "### Task 2.6: Calculate the standard deviation of each vector of a matrix\n",
    "\n",
    "Write a function that calculates the standard deviation of each array in the matrix and returns an array of standard deviations (one standard deviation for each column). To do so, use the function you implemented in Part 1.\n",
    "Pass in the matrix with the temperature data and return the result. Provide a written interpretation of your results - is the standard deviation consistent across the seasons? "
   ]
  },
  {
   "cell_type": "code",
   "execution_count": 185,
   "metadata": {},
   "outputs": [
    {
     "data": {
      "text/plain": [
       "[6.5, 7.34, 8.26, 6.92, 6.27, 6.54, 5.02, 4.67, 7.55, 6.94, 8.72, 8.97]"
      ]
     },
     "execution_count": 185,
     "metadata": {},
     "output_type": "execute_result"
    }
   ],
   "source": [
    "## your code goes here\n",
    "def mat_std_devcl(temperature_matrix):\n",
    "    std_mat=[]\n",
    "    for i in temperature_matrix:\n",
    "        list_std=std_dev(i)\n",
    "        std_mat.append(round(list_std,2))\n",
    "    return std_mat\n",
    "mat_std_devcl(temperature_matrix)"
   ]
  },
  {
   "cell_type": "markdown",
   "metadata": {},
   "source": [
    "**Your Interpretation:** TODO"
   ]
  },
  {
   "cell_type": "markdown",
   "metadata": {},
   "source": [
    "## Part 3: Poisson distribution \n",
    "\n",
    "Another example of a discrete random variable is a Poisson random variable. \n",
    "\n",
    "Read the [wikipedia article on the Poisson distribution](https://en.wikipedia.org/wiki/Poisson_distribution)\n",
    "\n",
    "**3.1 Descriptive statistics.** Describe what a Poisson random variable is. What is the parameter, $\\lambda$? What is the min, max, mean, and variance of a Poisson random variable? "
   ]
  },
  {
   "cell_type": "markdown",
   "metadata": {},
   "source": [
    "TODO: your description"
   ]
  },
  {
   "cell_type": "markdown",
   "metadata": {},
   "source": [
    "**3.2 Example.** Give an example of an application that is described by a Poisson random variable."
   ]
  },
  {
   "cell_type": "markdown",
   "metadata": {},
   "source": [
    "TODO: your description"
   ]
  },
  {
   "cell_type": "markdown",
   "metadata": {},
   "source": [
    "**3.3 Probability Mass Function.** For the parameter $\\lambda = 2$, plot the probability mass function. "
   ]
  },
  {
   "cell_type": "code",
   "execution_count": 23,
   "metadata": {},
   "outputs": [
    {
     "data": {
      "image/png": "[encoded data removed]",
      "text/plain": [
       "<matplotlib.figure.Figure at 0x1f3b2f0fc88>"
      ]
     },
     "metadata": {},
     "output_type": "display_data"
    }
   ],
   "source": [
    "# your code\n",
    "from scipy.stats import poisson\n",
    "import matplotlib.pyplot as plt\n",
    "import numpy as np\n",
    "fig, ax = plt.subplots(1, 1)\n",
    "lamda=2.0\n",
    "x = np.arange(poisson.ppf(0.01, lamda),poisson.ppf(0.99, lamda))\n",
    "ax.plot(x, poisson.pmf(x, lamda), 'bo', ms=8, label='poisson pmf')\n",
    "ax.vlines(x, 0, poisson.pmf(x, lamda), colors='b', lw=5, alpha=0.5)\n",
    "plt.show()\n"
   ]
  },
  {
   "cell_type": "markdown",
   "metadata": {},
   "source": [
    "**3.4 Poission sampling.** Write python code that takes 1000 samples from the Poisson distribution with parameter $\\lambda = 2$. Make a histogram of the samples and compute the sample mean and variance. How does the histogram compare to the probability mass function?"
   ]
  },
  {
   "cell_type": "code",
   "execution_count": 31,
   "metadata": {},
   "outputs": [
    {
     "data": {
      "image/png": "[encoded data removed]",
      "text/plain": [
       "<matplotlib.figure.Figure at 0x1f3b464a048>"
      ]
     },
     "metadata": {},
     "output_type": "display_data"
    }
   ],
   "source": [
    "# your code\n",
    "r = poisson.rvs(lamda, size=1000)\n",
    "plt.hist(r, bins=8,normed=True)\n",
    "plt.title(\"A histogram of poission random variables\")\n",
    "plt.show()"
   ]
  }
 ],
 "metadata": {
  "anaconda-cloud": {},
  "kernelspec": {
   "display_name": "Python 3",
   "language": "python",
   "name": "python3"
  },
  "language_info": {
   "codemirror_mode": {
    "name": "ipython",
    "version": 3
   },
   "file_extension": ".py",
   "mimetype": "text/x-python",
   "name": "python",
   "nbconvert_exporter": "python",
   "pygments_lexer": "ipython3",
   "version": "3.6.3"
  }
 },
 "nbformat": 4,
 "nbformat_minor": 1
}
